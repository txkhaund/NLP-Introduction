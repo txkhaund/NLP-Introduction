{
 "cells": [
  {
   "cell_type": "code",
   "execution_count": 1,
   "metadata": {},
   "outputs": [],
   "source": [
    "import csv\n",
    "import datetime as dt\n",
    "from psaw import PushshiftAPI"
   ]
  },
  {
   "cell_type": "code",
   "execution_count": 2,
   "metadata": {},
   "outputs": [],
   "source": [
    "outfile = 'reddit_submissions_casual_conv.csv'\n",
    "\n",
    "api = PushshiftAPI()\n",
    "\n",
    "start_epoch=int(dt.datetime(2020, 1, 1).timestamp())\n",
    "end_epoch=int(dt.datetime(2020, 4, 30).timestamp())\n",
    "\n",
    "data = api.search_submissions(after=start_epoch, before=end_epoch,\n",
    "                            subreddit='casualconversation',\n",
    "                            filter=['url','id', 'author', 'title', 'selftext', 'score', 'num_comments', 'upvote_ratio', 'subreddit_subscribers'],\n",
    "                            limit=100000000)"
   ]
  },
  {
   "cell_type": "code",
   "execution_count": 2,
   "metadata": {},
   "outputs": [],
   "source": [
    "# Create .csv with column headers\n",
    "with open(outfile, 'a', newline='') as file:\n",
    "    writer = csv.writer(file)\n",
    "    writer.writerow(['date', 'id', 'author', 'url', 'score', 'upvote_ratio', 'num_comments', 'subreddit_subscribers', 'title', 'text'])"
   ]
  },
  {
   "cell_type": "code",
   "execution_count": null,
   "metadata": {},
   "outputs": [],
   "source": [
    "counter = 0\n",
    "with open(outfile, 'a', newline='', encoding='utf8') as file:\n",
    "    writer = csv.writer(file)\n",
    "    for sub in data:\n",
    "        try:\n",
    "            if sub.d_['author'] != '[deleted]':\n",
    "                query = sub.d_['selftext']\n",
    "                len_text = sub.d_['selftext']\n",
    "                if (query == '[removed]') or (len(len_text) <= 500):\n",
    "                    pass\n",
    "                else:\n",
    "                    counter += 1\n",
    "                    if counter % 500 == 0:\n",
    "                        print('Results found',counter)\n",
    "                    text = sub.d_['selftext'].encode('ascii', 'ignore').decode().replace('\\n', '')\n",
    "                    date = dt.datetime.fromtimestamp(sub.d_['created_utc']).strftime('%Y-%m-%d %H:%M:%S')\n",
    "                    try:\n",
    "                        writer.writerow([date, sub.d_['id'], sub.d_['author'], sub.d_['url'], sub.d_['score'], sub.d_['upvote_ratio'], sub.d_['num_comments'], sub.d_['subreddit_subscribers'], sub.d_['title'], text])\n",
    "                    except Exception:\n",
    "                        writer.writerow([date, sub.d_['id'], sub.d_['author'], sub.d_['url'], sub.d_['score'], 0.0, sub.d_['num_comments'], sub.d_['subreddit_subscribers'], sub.d_['title'], text])\n",
    "        except Exception as e:\n",
    "            print('Error at count', counter, e)\n",
    "            print(sub.d_)\n",
    "print('done!')"
   ]
  },
  {
   "cell_type": "code",
   "execution_count": null,
   "metadata": {},
   "outputs": [],
   "source": []
  }
 ],
 "metadata": {
  "kernelspec": {
   "display_name": "Python 3",
   "language": "python",
   "name": "python3"
  },
  "language_info": {
   "codemirror_mode": {
    "name": "ipython",
    "version": 3
   },
   "file_extension": ".py",
   "mimetype": "text/x-python",
   "name": "python",
   "nbconvert_exporter": "python",
   "pygments_lexer": "ipython3",
   "version": "3.8.5"
  }
 },
 "nbformat": 4,
 "nbformat_minor": 4
}
